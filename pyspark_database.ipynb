{
  "nbformat": 4,
  "nbformat_minor": 0,
  "metadata": {
    "colab": {
      "name": "pyspark_database.ipynb",
      "provenance": [],
      "collapsed_sections": []
    },
    "kernelspec": {
      "name": "python3",
      "display_name": "Python 3"
    },
    "language_info": {
      "name": "python"
    }
  },
  "cells": [
    {
      "cell_type": "code",
      "metadata": {
        "colab": {
          "base_uri": "https://localhost:8080/"
        },
        "id": "d2rtq5nmLkIa",
        "outputId": "aed8a2bf-0dff-4c8c-bfb2-3a01580beb80"
      },
      "source": [
        "import os\n",
        "# Find the latest version of spark 3.0  from http://www-us.apache.org/dist/spark/ and enter as the spark version\n",
        "# For example:\n",
        "spark_version = 'spark-3.0.2'\n",
        "os.environ['SPARK_VERSION']=spark_version\n",
        "\n",
        "# Install Spark and Java\n",
        "!apt-get update\n",
        "!apt-get install openjdk-11-jdk-headless -qq > /dev/null\n",
        "!wget -q http://www-us.apache.org/dist/spark/$SPARK_VERSION/$SPARK_VERSION-bin-hadoop2.7.tgz\n",
        "!tar xf $SPARK_VERSION-bin-hadoop2.7.tgz\n",
        "!pip install -q findspark\n",
        "# Set Environment Variables\n",
        "os.environ[\"JAVA_HOME\"] = \"/usr/lib/jvm/java-11-openjdk-amd64\"\n",
        "os.environ[\"SPARK_HOME\"] = f\"/content/{spark_version}-bin-hadoop2.7\"\n",
        "# Start a SparkSession\n",
        "import findspark\n",
        "findspark.init()"
      ],
      "execution_count": 1,
      "outputs": [
        {
          "output_type": "stream",
          "text": [
            "\r0% [Working]\r            \rHit:1 https://cloud.r-project.org/bin/linux/ubuntu bionic-cran40/ InRelease\n",
            "\r0% [Connecting to archive.ubuntu.com] [Connecting to security.ubuntu.com] [Conn\r                                                                               \rIgn:2 https://developer.download.nvidia.com/compute/cuda/repos/ubuntu1804/x86_64  InRelease\n",
            "\r0% [Connecting to archive.ubuntu.com (91.189.88.142)] [Connecting to security.u\r0% [1 InRelease gpgv 3,626 B] [Connecting to archive.ubuntu.com (91.189.88.142)\r                                                                               \rIgn:3 https://developer.download.nvidia.com/compute/machine-learning/repos/ubuntu1804/x86_64  InRelease\n",
            "\r0% [1 InRelease gpgv 3,626 B] [Connecting to archive.ubuntu.com (91.189.88.142)\r                                                                               \rHit:4 https://developer.download.nvidia.com/compute/cuda/repos/ubuntu1804/x86_64  Release\n",
            "Hit:5 https://developer.download.nvidia.com/compute/machine-learning/repos/ubuntu1804/x86_64  Release\n",
            "Hit:6 http://ppa.launchpad.net/c2d4u.team/c2d4u4.0+/ubuntu bionic InRelease\n",
            "Hit:7 http://archive.ubuntu.com/ubuntu bionic InRelease\n",
            "Get:8 http://security.ubuntu.com/ubuntu bionic-security InRelease [88.7 kB]\n",
            "Get:10 http://archive.ubuntu.com/ubuntu bionic-updates InRelease [88.7 kB]\n",
            "Hit:11 http://ppa.launchpad.net/cran/libgit2/ubuntu bionic InRelease\n",
            "Get:13 http://ppa.launchpad.net/deadsnakes/ppa/ubuntu bionic InRelease [15.9 kB]\n",
            "Get:14 http://archive.ubuntu.com/ubuntu bionic-backports InRelease [74.6 kB]\n",
            "Hit:15 http://ppa.launchpad.net/graphics-drivers/ppa/ubuntu bionic InRelease\n",
            "Fetched 268 kB in 2s (125 kB/s)\n",
            "Reading package lists... Done\n"
          ],
          "name": "stdout"
        }
      ]
    },
    {
      "cell_type": "code",
      "metadata": {
        "colab": {
          "base_uri": "https://localhost:8080/"
        },
        "id": "rrJi2o1KU1v2",
        "outputId": "38a0b20f-c6ba-4958-d31b-9743102d1bb5"
      },
      "source": [
        "!wget https://jdbc.postgresql.org/download/postgresql-42.2.16.jar"
      ],
      "execution_count": 2,
      "outputs": [
        {
          "output_type": "stream",
          "text": [
            "--2021-05-05 02:29:26--  https://jdbc.postgresql.org/download/postgresql-42.2.16.jar\n",
            "Resolving jdbc.postgresql.org (jdbc.postgresql.org)... 72.32.157.228, 2001:4800:3e1:1::228\n",
            "Connecting to jdbc.postgresql.org (jdbc.postgresql.org)|72.32.157.228|:443... connected.\n",
            "HTTP request sent, awaiting response... 200 OK\n",
            "Length: 1002883 (979K) [application/java-archive]\n",
            "Saving to: ‘postgresql-42.2.16.jar.1’\n",
            "\n",
            "postgresql-42.2.16. 100%[===================>] 979.38K  6.05MB/s    in 0.2s    \n",
            "\n",
            "2021-05-05 02:29:26 (6.05 MB/s) - ‘postgresql-42.2.16.jar.1’ saved [1002883/1002883]\n",
            "\n"
          ],
          "name": "stdout"
        }
      ]
    },
    {
      "cell_type": "code",
      "metadata": {
        "id": "vuUuvTozL2fK"
      },
      "source": [
        "# Start Spark session\n",
        "from pyspark.sql import SparkSession\n",
        "spark = SparkSession.builder.appName(\"PGA_data\").config(\"spark.driver.extraClassPath\",\"/content/postgresql-42.2.16.jar\").getOrCreate()"
      ],
      "execution_count": 3,
      "outputs": []
    },
    {
      "cell_type": "code",
      "metadata": {
        "colab": {
          "base_uri": "https://localhost:8080/"
        },
        "id": "40pbSFptKz0J",
        "outputId": "3e99fb9a-4904-45cd-a818-154fdc60366a"
      },
      "source": [
        "from pyspark import SparkFiles\n",
        "url = \"https://red-team-final.s3.amazonaws.com/reshaped_cleaned_dataset.csv\"\n",
        "spark.sparkContext.addFile(url)\n",
        "df = spark.read.csv(SparkFiles.get(\"reshaped_cleaned_dataset.csv\"), sep=\",\", header=True, inferSchema=True)\n",
        "df.show()"
      ],
      "execution_count": 4,
      "outputs": [
        {
          "output_type": "stream",
          "text": [
            "+------------------+--------------------+-----------------+-------------------+--------------+-------------------------+---------+-----------+-------------+-----------------+------------+--------------+--------------+---------------+------------+---------------+--------------+----------------------+------------+----------------+-------------------------+-------------------------------+-----------+\n",
            "|SG_off_tee_AVERAGE|SG_tee_green_AVERAGE|driving_dist_AVG.|pct_ydg_tee_AVG (%)|driving_320+_%|SG_approach_green_AVERAGE|GIR_pct_%|GOFIR_pct_%|GIR_pct_fwy_%|GIR_pct_not_fwy_%|fwy_prox_AVG|rough_prox_AVG|SG_ATG_AVERAGE|pct_sand_save_%|scrambling_%|SG_putt_AVERAGE|pct_one_putt_%|pct_three_putt_avoid_%|putt_avg_AVG|putts_per_rd_AVG|bogey_avoid_% MAKES BOGEY|btb_ratio_BIRDIE TO BOGEY RATIO|money_MONEY|\n",
            "+------------------+--------------------+-----------------+-------------------+--------------+-------------------------+---------+-----------+-------------+-----------------+------------+--------------+--------------+---------------+------------+---------------+--------------+----------------------+------------+----------------+-------------------------+-------------------------------+-----------+\n",
            "|             1.144|               2.099|            321.1|               66.8|         51.47|                    0.696|    66.67|      80.34|        80.87|            50.25|         374|           572|         0.259|          48.89|       61.27|          0.435|         41.01|                  3.27|       1.752|           28.74|                    14.54|                           1.84|    5443091|\n",
            "|             0.841|                 1.7|            307.1|              64.01|         29.17|                    0.582|    72.11|       85.9|         83.8|            57.32|         372|           612|         0.326|           50.0|       63.07|         -0.019|         38.43|                  2.55|        1.75|           29.04|                     14.0|                           1.79|    3556232|\n",
            "|             0.774|               1.064|            318.2|              64.96|         48.68|                    0.178|    65.35|      74.37|        79.47|             53.1|         385|           583|         0.112|          57.35|       57.81|           0.04|         42.11|                  3.36|       1.743|           28.76|                    17.11|                           1.48|    1782342|\n",
            "|              0.61|               0.833|            299.9|              63.64|         13.28|                    0.553|    73.18|      79.81|        80.52|            65.29|         347|           491|        -0.329|          46.05|       61.49|         -0.013|         37.67|                  2.52|       1.756|            29.3|                     12.5|                           1.91|    1482028|\n",
            "|             0.567|               0.563|            287.4|              60.36|          8.33|                   -0.088|    64.81|      68.25|        72.54|            51.09|         387|           543|         0.084|           52.5|       60.53|         -0.793|         39.12|                  2.78|       1.779|           29.25|                    15.74|                           1.15|     164271|\n",
            "|             0.537|               0.519|            312.5|              64.76|         36.84|                    0.078|    66.67|      73.77|        79.77|            55.74|         401|           555|        -0.103|          48.54|       57.02|         -0.567|         39.86|                   4.0|        1.77|           29.25|                    18.03|                           1.25|     554462|\n",
            "|             0.516|               1.132|            304.5|              63.35|          25.0|                    0.582|    67.11|      82.76|        75.32|            59.91|         407|           553|         0.066|          46.81|        60.0|         -0.461|          34.5|                  3.95|       1.817|           29.66|                    17.69|                           1.17|    1219734|\n",
            "|             0.481|               0.743|            300.3|              63.11|          20.0|                    0.004|     66.3|      72.95|        77.45|            54.29|         430|           609|         0.258|          45.33|       61.17|          0.069|         38.89|                  2.35|       1.786|           29.24|                    15.19|                           1.32|     951209|\n",
            "|             0.478|               0.672|            305.7|              63.53|         19.44|                    0.093|    69.24|      79.83|        79.79|            52.45|         398|           604|        -0.205|          52.94|       55.52|          0.572|         38.68|                  2.47|       1.737|           28.87|                    15.95|                           1.55|    3133928|\n",
            "|             0.468|               0.252|            297.8|              63.66|          16.0|                   -0.471|    66.56|      71.72|        80.81|            52.88|         426|           581|         0.255|          47.06|       65.12|          0.189|         38.33|                   3.0|       1.801|           29.36|                     14.0|                           1.35|     823043|\n",
            "|              0.45|               0.102|            304.8|              63.97|         22.92|                   -0.315|    65.63|      75.51|        76.61|            53.76|         402|           544|        -0.231|          49.32|       54.88|         -0.137|         39.47|                  2.43|        1.76|            29.0|                    18.29|                           1.24|     609261|\n",
            "|             0.434|               0.984|            301.8|              64.05|         21.74|                    0.558|    68.72|      82.46|        81.57|            53.63|         421|           497|         0.386|          59.32|       68.34|          0.571|         42.51|                  3.26|       1.728|           28.11|                    14.49|                           1.78|    3532353|\n",
            "|             0.413|               0.889|            303.5|              64.05|          19.0|                    0.581|    69.56|       82.1|         81.1|            58.87|         370|           528|         0.204|          47.44|       64.23|          0.226|         41.22|                  3.67|        1.73|           28.28|                    15.44|                           1.68|    2089774|\n",
            "|             0.389|               0.808|            297.6|              62.52|         11.36|                     0.55|    69.95|      77.48|        78.28|            58.64|         374|           563|        -0.131|          55.38|       60.92|          0.571|         41.16|                  2.78|       1.726|           28.64|                    13.89|                           1.87|    2707325|\n",
            "|             0.388|               1.096|            307.7|              64.63|         28.13|                    0.544|    67.53|      76.52|        79.01|            56.72|         366|           534|         0.164|          65.91|       57.75|          0.778|         43.06|                  3.47|       1.717|            28.5|                    16.49|                           1.53|    2823715|\n",
            "|             0.371|               1.319|            312.0|              65.05|         33.82|                    0.579|    68.95|       75.4|        81.98|            56.99|         387|           492|         0.368|          54.35|       57.37|          0.028|         39.71|                  3.76|       1.739|           29.12|                    15.69|                            1.6|    3817596|\n",
            "|             0.369|               1.122|            306.5|              64.65|         22.46|                    0.593|    68.44|       80.5|        77.07|            58.84|         376|           514|         0.041|           48.0|       64.29|          0.276|         40.18|                  3.06|       1.741|           28.55|                    14.49|                           1.66|    2191934|\n",
            "|              0.36|                 0.1|            294.5|              62.43|          9.82|                   -0.196|    67.56|       79.2|         76.3|            55.85|         437|           615|         0.004|          44.32|        63.0|          0.472|         38.49|                  2.28|       1.758|           28.55|                    15.38|                           1.39|    3649347|\n",
            "|             0.355|               1.151|            306.3|              63.67|         27.17|                    0.409|     68.6|      80.18|        79.79|            50.78|         413|           568|         0.412|          66.67|       61.92|          0.701|         42.27|                  2.78|       1.715|           28.11|                    15.46|                           1.77|    4266444|\n",
            "|             0.354|                1.41|            304.9|              63.18|         25.96|                    0.547|    66.13|       76.9|        76.32|            55.05|         380|           514|         0.349|          55.41|       62.46|          0.109|         41.45|                  2.88|       1.703|           27.87|                    15.71|                           1.65|    3222524|\n",
            "+------------------+--------------------+-----------------+-------------------+--------------+-------------------------+---------+-----------+-------------+-----------------+------------+--------------+--------------+---------------+------------+---------------+--------------+----------------------+------------+----------------+-------------------------+-------------------------------+-----------+\n",
            "only showing top 20 rows\n",
            "\n"
          ],
          "name": "stdout"
        }
      ]
    },
    {
      "cell_type": "code",
      "metadata": {
        "id": "GF2WB2R_RUpv"
      },
      "source": [
        ""
      ],
      "execution_count": 4,
      "outputs": []
    }
  ]
}