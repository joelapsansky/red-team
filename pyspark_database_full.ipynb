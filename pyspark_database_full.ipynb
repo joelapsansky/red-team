{
<<<<<<< HEAD
  "nbformat": 4,
  "nbformat_minor": 0,
  "metadata": {
    "colab": {
      "name": "pyspark_database_full.ipynb",
      "provenance": [],
      "collapsed_sections": []
    },
    "kernelspec": {
      "display_name": "PythonData",
      "language": "python",
      "name": "pythondata"
    },
    "language_info": {
      "codemirror_mode": {
        "name": "ipython",
        "version": 3
      },
      "file_extension": ".py",
      "mimetype": "text/x-python",
      "name": "python",
      "nbconvert_exporter": "python",
      "pygments_lexer": "ipython3",
      "version": "3.7.9"
    }
  },
  "cells": [
    {
      "cell_type": "code",
      "metadata": {
        "id": "jji6QmS8yl6h"
      },
      "source": [
        "from config import password"
      ],
      "execution_count": null,
      "outputs": []
    },
    {
      "cell_type": "code",
      "metadata": {
        "colab": {
          "base_uri": "https://localhost:8080/"
        },
        "id": "d2rtq5nmLkIa",
        "outputId": "d5029c3c-80df-4c5f-cd96-028d21dabea6"
      },
      "source": [
        "import os\n",
        "# Find the latest version of spark 3.0  from http://www-us.apache.org/dist/spark/ and enter as the spark version\n",
        "# For example:\n",
        "spark_version = 'spark-3.0.2'\n",
        "os.environ['SPARK_VERSION']=spark_version\n",
        "\n",
        "# Install Spark and Java\n",
        "!apt-get update\n",
        "!apt-get install openjdk-11-jdk-headless -qq > /dev/null\n",
        "!wget -q http://www-us.apache.org/dist/spark/$SPARK_VERSION/$SPARK_VERSION-bin-hadoop2.7.tgz\n",
        "!tar xf $SPARK_VERSION-bin-hadoop2.7.tgz\n",
        "!pip install -q findspark\n",
        "# Set Environment Variables\n",
        "os.environ[\"JAVA_HOME\"] = \"/usr/lib/jvm/java-11-openjdk-amd64\"\n",
        "os.environ[\"SPARK_HOME\"] = f\"/content/{spark_version}-bin-hadoop2.7\"\n",
        "# Start a SparkSession\n",
        "import findspark\n",
        "findspark.init()"
      ],
      "execution_count": null,
      "outputs": [
        {
          "output_type": "stream",
          "text": [
            "\r0% [Working]\r            \rGet:1 https://cloud.r-project.org/bin/linux/ubuntu bionic-cran40/ InRelease [3,626 B]\n",
            "\r0% [Connecting to archive.ubuntu.com (91.189.88.152)] [Waiting for headers] [1 \r0% [Connecting to archive.ubuntu.com (91.189.88.152)] [Waiting for headers] [Co\r                                                                               \rGet:2 http://security.ubuntu.com/ubuntu bionic-security InRelease [88.7 kB]\n",
            "\r0% [Connecting to archive.ubuntu.com (91.189.88.152)] [2 InRelease 14.2 kB/88.7\r0% [1 InRelease gpgv 3,626 B] [Connecting to archive.ubuntu.com (91.189.88.152)\r0% [1 InRelease gpgv 3,626 B] [Waiting for headers] [Waiting for headers] [Wait\r                                                                               \rIgn:3 https://developer.download.nvidia.com/compute/cuda/repos/ubuntu1804/x86_64  InRelease\n",
            "\r0% [1 InRelease gpgv 3,626 B] [Waiting for headers] [Waiting for headers] [Wait\r                                                                               \rGet:4 http://ppa.launchpad.net/c2d4u.team/c2d4u4.0+/ubuntu bionic InRelease [15.9 kB]\n",
            "\r0% [1 InRelease gpgv 3,626 B] [Waiting for headers] [4 InRelease 2,572 B/15.9 k\r                                                                               \rHit:5 http://archive.ubuntu.com/ubuntu bionic InRelease\n",
            "\r0% [1 InRelease gpgv 3,626 B] [4 InRelease 2,572 B/15.9 kB 16%] [Waiting for he\r                                                                               \rIgn:6 https://developer.download.nvidia.com/compute/machine-learning/repos/ubuntu1804/x86_64  InRelease\n",
            "\r0% [1 InRelease gpgv 3,626 B] [Waiting for headers] [4 InRelease 11.3 kB/15.9 k\r                                                                               \rGet:7 https://developer.download.nvidia.com/compute/cuda/repos/ubuntu1804/x86_64  Release [697 B]\n",
            "\r0% [1 InRelease gpgv 3,626 B] [Waiting for headers] [4 InRelease 14.2 kB/15.9 k\r0% [1 InRelease gpgv 3,626 B] [Waiting for headers] [4 InRelease 14.2 kB/15.9 k\r                                                                               \rHit:8 https://developer.download.nvidia.com/compute/machine-learning/repos/ubuntu1804/x86_64  Release\n",
            "Get:9 https://developer.download.nvidia.com/compute/cuda/repos/ubuntu1804/x86_64  Release.gpg [836 B]\n",
            "Get:10 http://archive.ubuntu.com/ubuntu bionic-updates InRelease [88.7 kB]\n",
            "Get:11 https://cloud.r-project.org/bin/linux/ubuntu bionic-cran40/ Packages [53.9 kB]\n",
            "Hit:12 http://ppa.launchpad.net/cran/libgit2/ubuntu bionic InRelease\n",
            "Get:13 http://archive.ubuntu.com/ubuntu bionic-backports InRelease [74.6 kB]\n",
            "Get:14 http://ppa.launchpad.net/deadsnakes/ppa/ubuntu bionic InRelease [15.9 kB]\n",
            "Get:15 http://security.ubuntu.com/ubuntu bionic-security/main amd64 Packages [2,119 kB]\n",
            "Get:16 http://security.ubuntu.com/ubuntu bionic-security/universe amd64 Packages [1,410 kB]\n",
            "Get:17 http://security.ubuntu.com/ubuntu bionic-security/multiverse amd64 Packages [24.7 kB]\n",
            "Get:18 http://security.ubuntu.com/ubuntu bionic-security/restricted amd64 Packages [399 kB]\n",
            "Get:19 http://ppa.launchpad.net/graphics-drivers/ppa/ubuntu bionic InRelease [21.3 kB]\n",
            "Ign:21 https://developer.download.nvidia.com/compute/cuda/repos/ubuntu1804/x86_64  Packages\n",
            "Get:21 https://developer.download.nvidia.com/compute/cuda/repos/ubuntu1804/x86_64  Packages [763 kB]\n",
            "Get:22 http://ppa.launchpad.net/c2d4u.team/c2d4u4.0+/ubuntu bionic/main Sources [1,759 kB]\n",
            "Get:23 http://archive.ubuntu.com/ubuntu bionic-updates/restricted amd64 Packages [429 kB]\n",
            "Get:24 http://archive.ubuntu.com/ubuntu bionic-updates/main amd64 Packages [2,550 kB]\n",
            "Get:25 http://ppa.launchpad.net/c2d4u.team/c2d4u4.0+/ubuntu bionic/main amd64 Packages [900 kB]\n",
            "Get:26 http://archive.ubuntu.com/ubuntu bionic-updates/universe amd64 Packages [2,181 kB]\n",
            "Get:27 http://archive.ubuntu.com/ubuntu bionic-updates/multiverse amd64 Packages [31.6 kB]\n",
            "Get:28 http://ppa.launchpad.net/deadsnakes/ppa/ubuntu bionic/main amd64 Packages [40.8 kB]\n",
            "Get:29 http://ppa.launchpad.net/graphics-drivers/ppa/ubuntu bionic/main amd64 Packages [47.2 kB]\n",
            "Fetched 13.0 MB in 3s (3,732 kB/s)\n",
            "Reading package lists... Done\n"
          ],
          "name": "stdout"
        }
      ]
    },
    {
      "cell_type": "code",
      "metadata": {
        "colab": {
          "base_uri": "https://localhost:8080/"
        },
        "id": "rrJi2o1KU1v2",
        "outputId": "942e3bcb-3d5f-44eb-d6a4-747f78f89327"
      },
      "source": [
        "!wget https://jdbc.postgresql.org/download/postgresql-42.2.16.jar"
      ],
      "execution_count": null,
      "outputs": [
        {
          "output_type": "stream",
          "text": [
            "--2021-05-06 01:36:17--  https://jdbc.postgresql.org/download/postgresql-42.2.16.jar\n",
            "Resolving jdbc.postgresql.org (jdbc.postgresql.org)... 72.32.157.228, 2001:4800:3e1:1::228\n",
            "Connecting to jdbc.postgresql.org (jdbc.postgresql.org)|72.32.157.228|:443... connected.\n",
            "HTTP request sent, awaiting response... 200 OK\n",
            "Length: 1002883 (979K) [application/java-archive]\n",
            "Saving to: ‘postgresql-42.2.16.jar’\n",
            "\n",
            "postgresql-42.2.16. 100%[===================>] 979.38K  5.86MB/s    in 0.2s    \n",
            "\n",
            "2021-05-06 01:36:17 (5.86 MB/s) - ‘postgresql-42.2.16.jar’ saved [1002883/1002883]\n",
            "\n"
          ],
          "name": "stdout"
        }
      ]
    },
    {
      "cell_type": "code",
      "metadata": {
        "id": "vuUuvTozL2fK"
      },
      "source": [
        "# Start Spark session\n",
        "from pyspark.sql import SparkSession\n",
        "spark = SparkSession.builder.appName(\"PGA_data_full\").config(\"spark.driver.extraClassPath\",\"/content/postgresql-42.2.16.jar\").getOrCreate()"
      ],
      "execution_count": null,
      "outputs": []
    },
    {
      "cell_type": "code",
      "metadata": {
        "colab": {
          "base_uri": "https://localhost:8080/"
        },
        "id": "40pbSFptKz0J",
        "outputId": "a1d3a92f-9abb-4888-8583-dc49e441a89a"
      },
      "source": [
        "from pyspark import SparkFiles\n",
        "url = \"https://red-team-final.s3.amazonaws.com/reshaped_full_cleaned_dataset.csv\"\n",
        "spark.sparkContext.addFile(url)\n",
        "df = spark.read.csv(SparkFiles.get(\"reshaped_full_cleaned_dataset.csv\"), sep=\",\", header=True, inferSchema=True)\n",
        "df.show()"
      ],
      "execution_count": null,
      "outputs": [
        {
          "output_type": "stream",
          "text": [
            "+------------------+------------------+--------------------+-----------------+-------------------+--------------+-------------------------+---------+-----------+-------------+-----------------+------------+--------------+-------------------+---------------+------------+--------------------+--------------+----------------------+------------------+----------------+-------------------------+-------------------------------+-----------+----+\n",
            "|       PLAYER NAME|SG_off_tee_AVERAGE|SG_tee_green_AVERAGE|driving_dist_AVG.|pct_ydg_tee_AVG (%)|driving_320+_%|SG_approach_green_AVERAGE|GIR_pct_%|GOFIR_pct_%|GIR_pct_fwy_%|GIR_pct_not_fwy_%|fwy_prox_AVG|rough_prox_AVG|     SG_ATG_AVERAGE|pct_sand_save_%|scrambling_%|     SG_putt_AVERAGE|pct_one_putt_%|pct_three_putt_avoid_%|      putt_avg_AVG|putts_per_rd_AVG|bogey_avoid_% MAKES BOGEY|btb_ratio_BIRDIE TO BOGEY RATIO|money_MONEY|Year|\n",
            "+------------------+------------------+--------------------+-----------------+-------------------+--------------+-------------------------+---------+-----------+-------------+-----------------+------------+--------------+-------------------+---------------+------------+--------------------+--------------+----------------------+------------------+----------------+-------------------------+-------------------------------+-----------+----+\n",
            "| Bryson DeChambeau|             1.144|               2.099|            321.1|               66.8|         51.47|                    0.696|    66.67|      80.34|        80.87|            50.25|       374.0|         572.0|              0.259|          48.89|       61.27|               0.435|         41.01|                  3.27|1.7519999999999998|           28.74|                    14.54|                           1.84|  5443091.0|2021|\n",
            "|          Jon Rahm|             0.841|                 1.7|            307.1|              64.01|         29.17|       0.5820000000000001|    72.11|       85.9|         83.8|            57.32|       372.0|         612.0|              0.326|           50.0|       63.07|              -0.019|         38.43|                  2.55|              1.75|           29.04|                     14.0|                           1.79|  3556232.0|2021|\n",
            "|      Rory McIlroy|             0.774|               1.064|            318.2|              64.96|         48.68|      0.17800000000000002|    65.35|      74.37|        79.47|             53.1|       385.0|         583.0|              0.112|          57.35|       57.81|                0.04|         42.11|                  3.36|             1.743|           28.76|                    17.11|                           1.48|  1782342.0|2021|\n",
            "|   Emiliano Grillo|              0.61|               0.833|            299.9|              63.64|         13.28|       0.5529999999999999|    73.18|      79.81|        80.52|            65.29|       347.0|         491.0|             -0.329|          46.05|       61.49|              -0.013|         37.67|                  2.52|             1.756|            29.3|                     12.5|                           1.91|  1482028.0|2021|\n",
            "|        Ryan Moore|0.5670000000000001|               0.563|            287.4|              60.36|          8.33|     -0.08800000000000001|    64.81|      68.25|        72.54|            51.09|       387.0|         543.0|              0.084|           52.5|       60.53| -0.7929999999999999|         39.12|                  2.78|             1.779|           29.25|                    15.74|                           1.15|   164271.0|2021|\n",
            "|         Luke List|             0.537|               0.519|            312.5|              64.76|         36.84|                    0.078|    66.67|      73.77|        79.77|            55.74|       401.0|         555.0|             -0.103|          48.54|       57.02| -0.5670000000000001|         39.86|                   4.0|              1.77|           29.25|                    18.03|                           1.25|   554462.0|2021|\n",
            "|      Bubba Watson|             0.516|               1.132|            304.5|              63.35|          25.0|       0.5820000000000001|    67.11|      82.76|        75.32|            59.91|       407.0|         553.0|              0.066|          46.81|        60.0|              -0.461|          34.5|                  3.95|             1.817|           29.66|                    17.69|                           1.17|  1219734.0|2021|\n",
            "|         Jason Day|             0.481|               0.743|            300.3|              63.11|          20.0|                    0.004|     66.3|      72.95|        77.45|            54.29|       430.0|         609.0|              0.258|          45.33|       61.17|               0.069|         38.89|                  2.35|             1.786|           29.24|                    15.19|                           1.32|   951209.0|2021|\n",
            "|      Jason Kokrak|             0.478|               0.672|            305.7|              63.53|         19.44|                    0.093|    69.24|      79.83|        79.79|            52.45|       398.0|         604.0|             -0.205|          52.94|       55.52|  0.5720000000000001|         38.68|                  2.47|             1.737|           28.87|                    15.95|                           1.55|  3133928.0|2021|\n",
            "|Charles Howell III|             0.468|               0.252|            297.8|              63.66|          16.0|                   -0.471|    66.56|      71.72|        80.81|            52.88|       426.0|         581.0|              0.255|          47.06|       65.12|               0.189|         38.33|                   3.0|             1.801|           29.36|                     14.0|                           1.35|   823043.0|2021|\n",
            "|   Jhonattan Vegas|              0.45|               0.102|            304.8|              63.97|         22.92|                   -0.315|    65.63|      75.51|        76.61|            53.76|       402.0|         544.0|             -0.231|          49.32|       54.88|-0.13699999999999998|         39.47|                  2.43|              1.76|            29.0|                    18.29|                           1.24|   609261.0|2021|\n",
            "|   Patrick Cantlay|             0.434|               0.984|            301.8|              64.05|         21.74|       0.5579999999999999|    68.72|      82.46|        81.57|            53.63|       421.0|         497.0|              0.386|          59.32|       68.34|  0.5710000000000001|         42.51|                  3.26|1.7280000000000002|           28.11|                    14.49|                           1.78|  3532353.0|2021|\n",
            "|       Ryan Palmer|             0.413|               0.889|            303.5|              64.05|          19.0|                    0.581|    69.56|       82.1|         81.1|            58.87|       370.0|         528.0|              0.204|          47.44|       64.23|               0.226|         41.22|                  3.67|              1.73|           28.28|                    15.44|                           1.68|  2089774.0|2021|\n",
            "|     Daniel Berger|             0.389|  0.8079999999999999|            297.6|              62.52|         11.36|                     0.55|    69.95|      77.48|        78.28|            58.64|       374.0|         563.0|             -0.131|          55.38|       60.92|  0.5710000000000001|         41.16|                  2.78|             1.726|           28.64|                    13.89|                           1.87|  2707325.0|2021|\n",
            "|     Brooks Koepka|             0.388|               1.096|            307.7|              64.63|         28.13|                    0.544|    67.53|      76.52|        79.01|            56.72|       366.0|         534.0|0.16399999999999998|          65.91|       57.75|               0.778|         43.06|                  3.47|             1.717|            28.5|                    16.49|                           1.53|  2823715.0|2021|\n",
            "|    Dustin Johnson|             0.371|               1.319|            312.0|              65.05|         33.82|                    0.579|    68.95|       75.4|        81.98|            56.99|       387.0|         492.0|              0.368|          54.35|       57.37|               0.028|         39.71|                  3.76|             1.739|           29.12|                    15.69|                            1.6|  3817596.0|2021|\n",
            "|   Charley Hoffman|             0.369|               1.122|            306.5|              64.65|         22.46|                    0.593|    68.44|       80.5|        77.07|            58.84|       376.0|         514.0|              0.041|           48.0|       64.29|               0.276|         40.18|                  3.06|             1.741|           28.55|                    14.49|                           1.66|  2191934.0|2021|\n",
            "|    Billy Horschel|              0.36|                 0.1|            294.5|              62.43|          9.82|                   -0.196|    67.56|       79.2|         76.3|            55.85|       437.0|         615.0|              0.004|          44.32|        63.0|               0.472|         38.49|                  2.28|             1.758|           28.55|                    15.38|                           1.39|  3649347.0|2021|\n",
            "| Xander Schauffele|             0.355|               1.151|            306.3|              63.67|         27.17|                    0.409|     68.6|      80.18|        79.79|            50.78|       413.0|         568.0|              0.412|          66.67|       61.92|               0.701|         42.27|                  2.78|             1.715|           28.11|                    15.46|                           1.77|  4266444.0|2021|\n",
            "|        Tony Finau|             0.354|                1.41|            304.9|              63.18|         25.96|                    0.547|    66.13|       76.9|        76.32|            55.05|       380.0|         514.0|              0.349|          55.41|       62.46|               0.109|         41.45|                  2.88|             1.703|           27.87|                    15.71|                           1.65|  3222524.0|2021|\n",
            "+------------------+------------------+--------------------+-----------------+-------------------+--------------+-------------------------+---------+-----------+-------------+-----------------+------------+--------------+-------------------+---------------+------------+--------------------+--------------+----------------------+------------------+----------------+-------------------------+-------------------------------+-----------+----+\n",
            "only showing top 20 rows\n",
            "\n"
          ],
          "name": "stdout"
        }
      ]
    },
    {
      "cell_type": "code",
      "metadata": {
        "id": "GF2WB2R_RUpv"
      },
      "source": [
        "# Configure settings for RDS\n",
        "mode = \"append\"\n",
        "jdbc_url=\"jdbc:postgresql://red-team-final.c3yshvuxvm9x.us-east-2.rds.amazonaws.com:5432/red-team\"\n",
        "db_pass = f\"{password\"}\n",
        "config = {\"user\":\"postgres\", \n",
        "          \"password\": db_pass, \n",
        "          \"driver\":\"org.postgresql.Driver\"}"
      ],
      "execution_count": null,
      "outputs": []
    },
    {
      "cell_type": "code",
      "metadata": {
        "id": "1LuwRhSHLzSd"
      },
      "source": [
        "# Write to table in RDS\n",
        "df.write.jdbc(url=jdbc_url, table='pga_stats_full', mode=mode, properties=config)"
      ],
      "execution_count": null,
      "outputs": []
    }
  ]
}
=======
 "cells": [
  {
   "cell_type": "code",
   "execution_count": null,
   "metadata": {
    "colab": {
     "base_uri": "https://localhost:8080/"
    },
    "id": "d2rtq5nmLkIa",
    "outputId": "927d21aa-47a7-4a14-fd8a-766e9836ba3b"
   },
   "outputs": [],
   "source": [
    "import os\n",
    "# Find the latest version of spark 3.0  from http://www-us.apache.org/dist/spark/ and enter as the spark version\n",
    "# For example:\n",
    "spark_version = 'spark-3.0.2'\n",
    "os.environ['SPARK_VERSION']=spark_version\n",
    "\n",
    "# Install Spark and Java\n",
    "!apt-get update\n",
    "!apt-get install openjdk-11-jdk-headless -qq > /dev/null\n",
    "!wget -q http://www-us.apache.org/dist/spark/$SPARK_VERSION/$SPARK_VERSION-bin-hadoop2.7.tgz\n",
    "!tar xf $SPARK_VERSION-bin-hadoop2.7.tgz\n",
    "!pip install -q findspark\n",
    "# Set Environment Variables\n",
    "os.environ[\"JAVA_HOME\"] = \"/usr/lib/jvm/java-11-openjdk-amd64\"\n",
    "os.environ[\"SPARK_HOME\"] = f\"/content/{spark_version}-bin-hadoop2.7\"\n",
    "# Start a SparkSession\n",
    "import findspark\n",
    "findspark.init()"
   ]
  },
  {
   "cell_type": "code",
   "execution_count": null,
   "metadata": {
    "colab": {
     "base_uri": "https://localhost:8080/"
    },
    "id": "rrJi2o1KU1v2",
    "outputId": "a33e340b-f7d9-45be-fb8e-c07b12fb73d2"
   },
   "outputs": [],
   "source": [
    "!wget https://jdbc.postgresql.org/download/postgresql-42.2.16.jar"
   ]
  },
  {
   "cell_type": "code",
   "execution_count": null,
   "metadata": {
    "id": "vuUuvTozL2fK"
   },
   "outputs": [],
   "source": [
    "# Start Spark session\n",
    "from pyspark.sql import SparkSession\n",
    "spark = SparkSession.builder.appName(\"PGA_data_full\").config(\"spark.driver.extraClassPath\",\"/content/postgresql-42.2.16.jar\").getOrCreate()"
   ]
  },
  {
   "cell_type": "code",
   "execution_count": null,
   "metadata": {
    "colab": {
     "base_uri": "https://localhost:8080/"
    },
    "id": "40pbSFptKz0J",
    "outputId": "73641c77-0851-4233-bb87-8ef02f990a12"
   },
   "outputs": [],
   "source": [
    "from pyspark import SparkFiles\n",
    "url = \"https://red-team-final.s3.amazonaws.com/reshaped_full_cleaned_dataset.csv\"\n",
    "spark.sparkContext.addFile(url)\n",
    "df = spark.read.csv(SparkFiles.get(\"reshaped_full_cleaned_dataset.csv\"), sep=\",\", header=True, inferSchema=True)\n",
    "df.show()"
   ]
  },
  {
   "cell_type": "code",
   "execution_count": null,
   "metadata": {
    "id": "GF2WB2R_RUpv"
   },
   "outputs": [],
   "source": [
    "# Configure settings for RDS\n",
    "mode = \"append\"\n",
    "jdbc_url=\"jdbc:postgresql://red-team-final.c3yshvuxvm9x.us-east-2.rds.amazonaws.com:5432/red-team\"\n",
    "config = {\"user\":\"postgres\", \n",
    "          \"password\": \"databootcamp1\", \n",
    "          \"driver\":\"org.postgresql.Driver\"}"
   ]
  },
  {
   "cell_type": "code",
   "execution_count": null,
   "metadata": {
    "id": "1LuwRhSHLzSd"
   },
   "outputs": [],
   "source": [
    "# Write to table in RDS\n",
    "df.write.jdbc(url=jdbc_url, table='pga_stats_full', mode=mode, properties=config)"
   ]
  }
 ],
 "metadata": {
  "colab": {
   "collapsed_sections": [],
   "name": "pyspark_database.ipynb",
   "provenance": []
  },
  "kernelspec": {
   "display_name": "PythonData",
   "language": "python",
   "name": "pythondata"
  },
  "language_info": {
   "codemirror_mode": {
    "name": "ipython",
    "version": 3
   },
   "file_extension": ".py",
   "mimetype": "text/x-python",
   "name": "python",
   "nbconvert_exporter": "python",
   "pygments_lexer": "ipython3",
   "version": "3.7.9"
  }
 },
 "nbformat": 4,
 "nbformat_minor": 1
}
>>>>>>> 3828628ac6ff8cf2a531932bc841420c58398451
